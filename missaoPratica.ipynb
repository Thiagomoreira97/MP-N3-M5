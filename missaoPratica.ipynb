{
  "metadata": {
    "kernelspec": {
      "name": "python",
      "display_name": "Python (Pyodide)",
      "language": "python"
    },
    "language_info": {
      "codemirror_mode": {
        "name": "python",
        "version": 3
      },
      "file_extension": ".py",
      "mimetype": "text/x-python",
      "name": "python",
      "nbconvert_exporter": "python",
      "pygments_lexer": "ipython3",
      "version": "3.8"
    }
  },
  "nbformat_minor": 4,
  "nbformat": 4,
  "cells": [
    {
      "cell_type": "code",
      "source": "import pandas as pd\n\n# Substitua 'nome_do_arquivo.csv' pelo nome exato do seu arquivo\nfile_path = 'dados.csv'\n\n# Leia o arquivo CSV\ndf = pd.read_csv(file_path, sep=';', engine='python')\n\n# Verifique os dados importados\nprint(\"Informações gerais:\")\nprint(df.info())\nprint(\"\\nPrimeiras 10 linhas:\")\nprint(df.head(10))\nprint(\"\\nÚltimas 10 linhas:\")\nprint(df.tail(10))\n\n",
      "metadata": {
        "trusted": true
      },
      "outputs": [
        {
          "name": "stdout",
          "text": "Informações gerais:\n<class 'pandas.core.frame.DataFrame'>\nRangeIndex: 32 entries, 0 to 31\nData columns (total 6 columns):\n #   Column    Non-Null Count  Dtype  \n---  ------    --------------  -----  \n 0   ID        32 non-null     int64  \n 1   Duration  32 non-null     int64  \n 2   Date      31 non-null     object \n 3   Pulse     32 non-null     int64  \n 4   Maxpulse  32 non-null     int64  \n 5   Calories  30 non-null     float64\ndtypes: float64(1), int64(4), object(1)\nmemory usage: 1.4+ KB\nNone\n\nPrimeiras 10 linhas:\n   ID  Duration          Date  Pulse  Maxpulse  Calories\n0   0        60  '2020/12/01'    110       130    4091.0\n1   1        60  '2020/12/02'    117       145    4790.0\n2   2        60  '2020/12/03'    103       135    3400.0\n3   3        45  '2020/12/04'    109       175    2824.0\n4   4        45  '2020/12/05'    117       148    4060.0\n5   5        60  '2020/12/06'    102       127    3000.0\n6   6        60  '2020/12/07'    110       136    3740.0\n7   7       450  '2020/12/08'    104       134    2533.0\n8   8        30  '2020/12/09'    109       133    1951.0\n9   9        60  '2020/12/10'     98       124    2690.0\n\nÚltimas 10 linhas:\n    ID  Duration          Date  Pulse  Maxpulse  Calories\n22  22        45           NaN    100       119    2820.0\n23  23        60  '2020/12/23'    130       101    3000.0\n24  24        45  '2020/12/24'    105       132    2460.0\n25  25        60  '2020/12/25'    102       126    3345.0\n26  26        60      20201226    100       120    2500.0\n27  27        60  '2020/12/27'     92       118    2410.0\n28  28        60  '2020/12/28'    103       132       NaN\n29  29        60  '2020/12/29'    100       132    2800.0\n30  30        60  '2020/12/30'    102       129    3803.0\n31  31        60  '2020/12/31'     92       115    2430.0\n",
          "output_type": "stream"
        }
      ],
      "execution_count": 2
    },
    {
      "cell_type": "code",
      "source": "# Crie uma cópia do conjunto de dados\ndf_copy = df.copy()\n",
      "metadata": {
        "trusted": true
      },
      "outputs": [],
      "execution_count": 3
    },
    {
      "cell_type": "code",
      "source": "# Substitua valores nulos na coluna 'Calories' por 0\ndf_copy['Calories'].fillna(0, inplace=True)\n\n# Verifique se a mudança foi aplicada com sucesso\nprint(\"Conjunto de dados após substituir valores nulos na coluna 'Calories':\")\nprint(df_copy)\n",
      "metadata": {
        "trusted": true
      },
      "outputs": [
        {
          "name": "stderr",
          "text": "<ipython-input-4-b9693a564f28>:2: FutureWarning: A value is trying to be set on a copy of a DataFrame or Series through chained assignment using an inplace method.\nThe behavior will change in pandas 3.0. This inplace method will never work because the intermediate object on which we are setting values always behaves as a copy.\n\nFor example, when doing 'df[col].method(value, inplace=True)', try using 'df.method({col: value}, inplace=True)' or df[col] = df[col].method(value) instead, to perform the operation inplace on the original object.\n\n\n  df_copy['Calories'].fillna(0, inplace=True)\n",
          "output_type": "stream"
        },
        {
          "name": "stdout",
          "text": "Conjunto de dados após substituir valores nulos na coluna 'Calories':\n    ID  Duration          Date  Pulse  Maxpulse  Calories\n0    0        60  '2020/12/01'    110       130    4091.0\n1    1        60  '2020/12/02'    117       145    4790.0\n2    2        60  '2020/12/03'    103       135    3400.0\n3    3        45  '2020/12/04'    109       175    2824.0\n4    4        45  '2020/12/05'    117       148    4060.0\n5    5        60  '2020/12/06'    102       127    3000.0\n6    6        60  '2020/12/07'    110       136    3740.0\n7    7       450  '2020/12/08'    104       134    2533.0\n8    8        30  '2020/12/09'    109       133    1951.0\n9    9        60  '2020/12/10'     98       124    2690.0\n10  10        60  '2020/12/11'    103       147    3293.0\n11  11        60  '2020/12/12'    100       120    2507.0\n12  12        60  '2020/12/12'    100       120    2507.0\n13  13        60  '2020/12/13'    106       128    3453.0\n14  14        60  '2020/12/14'    104       132    3793.0\n15  15        60  '2020/12/15'     98       123    2750.0\n16  16        60  '2020/12/16'     98       120    2152.0\n17  17        60  '2020/12/17'    100       120    3000.0\n18  18        45  '2020/12/18'     90       112       0.0\n19  19        60  '2020/12/19'    103       123    3230.0\n20  20        45  '2020/12/20'     97       125    2430.0\n21  21        60  '2020/12/21'    108       131    3642.0\n22  22        45           NaN    100       119    2820.0\n23  23        60  '2020/12/23'    130       101    3000.0\n24  24        45  '2020/12/24'    105       132    2460.0\n25  25        60  '2020/12/25'    102       126    3345.0\n26  26        60      20201226    100       120    2500.0\n27  27        60  '2020/12/27'     92       118    2410.0\n28  28        60  '2020/12/28'    103       132       0.0\n29  29        60  '2020/12/29'    100       132    2800.0\n30  30        60  '2020/12/30'    102       129    3803.0\n31  31        60  '2020/12/31'     92       115    2430.0\n",
          "output_type": "stream"
        }
      ],
      "execution_count": 4
    },
    {
      "cell_type": "code",
      "source": "# Substitua valores nulos na coluna 'Date' por '1900/01/01'\ndf_copy['Date'].fillna('1900/01/01', inplace=True)\n\n# Verifique se a mudança foi aplicada com sucesso\nprint(\"Conjunto de dados após substituir valores nulos na coluna 'Date':\")\nprint(df_copy)\n",
      "metadata": {
        "trusted": true
      },
      "outputs": [
        {
          "name": "stderr",
          "text": "<ipython-input-5-dc346894acbd>:2: FutureWarning: A value is trying to be set on a copy of a DataFrame or Series through chained assignment using an inplace method.\nThe behavior will change in pandas 3.0. This inplace method will never work because the intermediate object on which we are setting values always behaves as a copy.\n\nFor example, when doing 'df[col].method(value, inplace=True)', try using 'df.method({col: value}, inplace=True)' or df[col] = df[col].method(value) instead, to perform the operation inplace on the original object.\n\n\n  df_copy['Date'].fillna('1900/01/01', inplace=True)\n",
          "output_type": "stream"
        },
        {
          "name": "stdout",
          "text": "Conjunto de dados após substituir valores nulos na coluna 'Date':\n    ID  Duration          Date  Pulse  Maxpulse  Calories\n0    0        60  '2020/12/01'    110       130    4091.0\n1    1        60  '2020/12/02'    117       145    4790.0\n2    2        60  '2020/12/03'    103       135    3400.0\n3    3        45  '2020/12/04'    109       175    2824.0\n4    4        45  '2020/12/05'    117       148    4060.0\n5    5        60  '2020/12/06'    102       127    3000.0\n6    6        60  '2020/12/07'    110       136    3740.0\n7    7       450  '2020/12/08'    104       134    2533.0\n8    8        30  '2020/12/09'    109       133    1951.0\n9    9        60  '2020/12/10'     98       124    2690.0\n10  10        60  '2020/12/11'    103       147    3293.0\n11  11        60  '2020/12/12'    100       120    2507.0\n12  12        60  '2020/12/12'    100       120    2507.0\n13  13        60  '2020/12/13'    106       128    3453.0\n14  14        60  '2020/12/14'    104       132    3793.0\n15  15        60  '2020/12/15'     98       123    2750.0\n16  16        60  '2020/12/16'     98       120    2152.0\n17  17        60  '2020/12/17'    100       120    3000.0\n18  18        45  '2020/12/18'     90       112       0.0\n19  19        60  '2020/12/19'    103       123    3230.0\n20  20        45  '2020/12/20'     97       125    2430.0\n21  21        60  '2020/12/21'    108       131    3642.0\n22  22        45    1900/01/01    100       119    2820.0\n23  23        60  '2020/12/23'    130       101    3000.0\n24  24        45  '2020/12/24'    105       132    2460.0\n25  25        60  '2020/12/25'    102       126    3345.0\n26  26        60      20201226    100       120    2500.0\n27  27        60  '2020/12/27'     92       118    2410.0\n28  28        60  '2020/12/28'    103       132       0.0\n29  29        60  '2020/12/29'    100       132    2800.0\n30  30        60  '2020/12/30'    102       129    3803.0\n31  31        60  '2020/12/31'     92       115    2430.0\n",
          "output_type": "stream"
        }
      ],
      "execution_count": 5
    },
    {
      "cell_type": "code",
      "source": "# Tente transformar a coluna 'Date' em datetime\ntry:\n    df_copy['Date'] = pd.to_datetime(df_copy['Date'], format='%Y/%m/%d')\nexcept Exception as e:\n    print(f\"Erro ao transformar a coluna 'Date' em datetime: {e}\")\n",
      "metadata": {
        "trusted": true
      },
      "outputs": [
        {
          "name": "stdout",
          "text": "Erro ao transformar a coluna 'Date' em datetime: time data \"'2020/12/01'\" doesn't match format \"%Y/%m/%d\", at position 0. You might want to try:\n    - passing `format` if your strings have a consistent format;\n    - passing `format='ISO8601'` if your strings are all ISO8601 but not necessarily in exactly the same format;\n    - passing `format='mixed'`, and the format will be inferred for each element individually. You might want to use `dayfirst` alongside this.\n",
          "output_type": "stream"
        }
      ],
      "execution_count": 6
    },
    {
      "cell_type": "code",
      "source": "# Substitua '1900/01/01' por 'NaN'\ndf_copy['Date'].replace('1900/01/01', pd.NaT, inplace=True)\n\n# Transforme a coluna 'Date' em datetime novamente\ndf_copy['Date'] = pd.to_datetime(df_copy['Date'], errors='coerce')\n\n# Verifique as mudanças\nprint(\"Conjunto de dados após transformação dos dados da coluna 'Date':\")\nprint(df_copy)\n",
      "metadata": {
        "trusted": true
      },
      "outputs": [
        {
          "name": "stdout",
          "text": "Conjunto de dados após transformação dos dados da coluna 'Date':\n    ID  Duration       Date  Pulse  Maxpulse  Calories\n0    0        60 2020-12-01    110       130    4091.0\n1    1        60 2020-12-02    117       145    4790.0\n2    2        60 2020-12-03    103       135    3400.0\n3    3        45 2020-12-04    109       175    2824.0\n4    4        45 2020-12-05    117       148    4060.0\n5    5        60 2020-12-06    102       127    3000.0\n6    6        60 2020-12-07    110       136    3740.0\n7    7       450 2020-12-08    104       134    2533.0\n8    8        30 2020-12-09    109       133    1951.0\n9    9        60 2020-12-10     98       124    2690.0\n10  10        60 2020-12-11    103       147    3293.0\n11  11        60 2020-12-12    100       120    2507.0\n12  12        60 2020-12-12    100       120    2507.0\n13  13        60 2020-12-13    106       128    3453.0\n14  14        60 2020-12-14    104       132    3793.0\n15  15        60 2020-12-15     98       123    2750.0\n16  16        60 2020-12-16     98       120    2152.0\n17  17        60 2020-12-17    100       120    3000.0\n18  18        45 2020-12-18     90       112       0.0\n19  19        60 2020-12-19    103       123    3230.0\n20  20        45 2020-12-20     97       125    2430.0\n21  21        60 2020-12-21    108       131    3642.0\n22  22        45        NaT    100       119    2820.0\n23  23        60 2020-12-23    130       101    3000.0\n24  24        45 2020-12-24    105       132    2460.0\n25  25        60 2020-12-25    102       126    3345.0\n26  26        60        NaT    100       120    2500.0\n27  27        60 2020-12-27     92       118    2410.0\n28  28        60 2020-12-28    103       132       0.0\n29  29        60 2020-12-29    100       132    2800.0\n30  30        60 2020-12-30    102       129    3803.0\n31  31        60 2020-12-31     92       115    2430.0\n",
          "output_type": "stream"
        }
      ],
      "execution_count": 7
    },
    {
      "cell_type": "code",
      "source": "# Corrija o valor \"20201226\" para o formato datetime\ndf_copy['Date'] = df_copy['Date'].astype(str).replace('20201226', '2020/12/26')\ndf_copy['Date'] = pd.to_datetime(df_copy['Date'], errors='coerce')\n\n# Verifique as mudanças\nprint(\"Conjunto de dados após correção do valor '20201226':\")\nprint(df_copy)\n",
      "metadata": {
        "trusted": true
      },
      "outputs": [
        {
          "name": "stdout",
          "text": "Conjunto de dados após correção do valor '20201226':\n    ID  Duration       Date  Pulse  Maxpulse  Calories\n0    0        60 2020-12-01    110       130    4091.0\n1    1        60 2020-12-02    117       145    4790.0\n2    2        60 2020-12-03    103       135    3400.0\n3    3        45 2020-12-04    109       175    2824.0\n4    4        45 2020-12-05    117       148    4060.0\n5    5        60 2020-12-06    102       127    3000.0\n6    6        60 2020-12-07    110       136    3740.0\n7    7       450 2020-12-08    104       134    2533.0\n8    8        30 2020-12-09    109       133    1951.0\n9    9        60 2020-12-10     98       124    2690.0\n10  10        60 2020-12-11    103       147    3293.0\n11  11        60 2020-12-12    100       120    2507.0\n12  12        60 2020-12-12    100       120    2507.0\n13  13        60 2020-12-13    106       128    3453.0\n14  14        60 2020-12-14    104       132    3793.0\n15  15        60 2020-12-15     98       123    2750.0\n16  16        60 2020-12-16     98       120    2152.0\n17  17        60 2020-12-17    100       120    3000.0\n18  18        45 2020-12-18     90       112       0.0\n19  19        60 2020-12-19    103       123    3230.0\n20  20        45 2020-12-20     97       125    2430.0\n21  21        60 2020-12-21    108       131    3642.0\n22  22        45        NaT    100       119    2820.0\n23  23        60 2020-12-23    130       101    3000.0\n24  24        45 2020-12-24    105       132    2460.0\n25  25        60 2020-12-25    102       126    3345.0\n26  26        60        NaT    100       120    2500.0\n27  27        60 2020-12-27     92       118    2410.0\n28  28        60 2020-12-28    103       132       0.0\n29  29        60 2020-12-29    100       132    2800.0\n30  30        60 2020-12-30    102       129    3803.0\n31  31        60 2020-12-31     92       115    2430.0\n",
          "output_type": "stream"
        }
      ],
      "execution_count": 8
    },
    {
      "cell_type": "code",
      "source": "# Remova registros com valores nulos\ndf_cleaned = df_copy.dropna()\n\n# Verifique o DataFrame limpo\nprint(\"Conjunto de dados após remover registros com valores nulos:\")\nprint(df_cleaned)\n",
      "metadata": {
        "trusted": true
      },
      "outputs": [
        {
          "name": "stdout",
          "text": "Conjunto de dados após remover registros com valores nulos:\n    ID  Duration       Date  Pulse  Maxpulse  Calories\n0    0        60 2020-12-01    110       130    4091.0\n1    1        60 2020-12-02    117       145    4790.0\n2    2        60 2020-12-03    103       135    3400.0\n3    3        45 2020-12-04    109       175    2824.0\n4    4        45 2020-12-05    117       148    4060.0\n5    5        60 2020-12-06    102       127    3000.0\n6    6        60 2020-12-07    110       136    3740.0\n7    7       450 2020-12-08    104       134    2533.0\n8    8        30 2020-12-09    109       133    1951.0\n9    9        60 2020-12-10     98       124    2690.0\n10  10        60 2020-12-11    103       147    3293.0\n11  11        60 2020-12-12    100       120    2507.0\n12  12        60 2020-12-12    100       120    2507.0\n13  13        60 2020-12-13    106       128    3453.0\n14  14        60 2020-12-14    104       132    3793.0\n15  15        60 2020-12-15     98       123    2750.0\n16  16        60 2020-12-16     98       120    2152.0\n17  17        60 2020-12-17    100       120    3000.0\n18  18        45 2020-12-18     90       112       0.0\n19  19        60 2020-12-19    103       123    3230.0\n20  20        45 2020-12-20     97       125    2430.0\n21  21        60 2020-12-21    108       131    3642.0\n23  23        60 2020-12-23    130       101    3000.0\n24  24        45 2020-12-24    105       132    2460.0\n25  25        60 2020-12-25    102       126    3345.0\n27  27        60 2020-12-27     92       118    2410.0\n28  28        60 2020-12-28    103       132       0.0\n29  29        60 2020-12-29    100       132    2800.0\n30  30        60 2020-12-30    102       129    3803.0\n31  31        60 2020-12-31     92       115    2430.0\n",
          "output_type": "stream"
        }
      ],
      "execution_count": 9
    },
    {
      "cell_type": "code",
      "source": "",
      "metadata": {
        "trusted": true
      },
      "outputs": [],
      "execution_count": null
    }
  ]
}
