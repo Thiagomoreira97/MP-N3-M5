{
  "metadata": {
    "kernelspec": {
      "name": "python",
      "display_name": "Python (Pyodide)",
      "language": "python"
    },
    "language_info": {
      "codemirror_mode": {
        "name": "python",
        "version": 3
      },
      "file_extension": ".py",
      "mimetype": "text/x-python",
      "name": "python",
      "nbconvert_exporter": "python",
      "pygments_lexer": "ipython3",
      "version": "3.8"
    }
  },
  "nbformat_minor": 4,
  "nbformat": 4,
  "cells": [
    {
      "cell_type": "code",
      "source": "csv_content = \"\"\"ID;Duration;Date;Pulse;Maxpulse;Calories\n0;60;'2020/12/01';110;130;4091\n1;60;'2020/12/02';117;145;4790\n2;60;'2020/12/03';103;135;3400\n3;45;'2020/12/04';109;175;2824\n4;45;'2020/12/05';117;148;4060\n5;60;'2020/12/06';102;127;3000\n6;60;'2020/12/07';110;136;3740\n7;450;'2020/12/08';104;134;2533\n8;30;'2020/12/09';109;133;1951\n9;60;'2020/12/10';98;124;2690\n10;60;'2020/12/11';103;147;3293\n11;60;'2020/12/12';100;120;2507\n12;60;'2020/12/12';100;120;2507\n13;60;'2020/12/13';106;128;3453\n14;60;'2020/12/14';104;132;3793\n15;60;'2020/12/15';98;123;2750\n16;60;'2020/12/16';98;120;2152\n17;60;'2020/12/17';100;120;3000\n18;45;'2020/12/18';90;112;NaN\n19;60;'2020/12/19';103;123;3230\n20;45;'2020/12/20';97;125;2430\n21;60;'2020/12/21';108;131;3642\n22;45;NaN;100;119;2820\n23;60;'2020/12/23';130;101;3000\n24;45;'2020/12/24';105;132;2460\n25;60;'2020/12/25';102;126;3345\n26;60;20201226;100;120;2500\n27;60;'2020/12/27';92;118;2410\n28;60;'2020/12/28';103;132;NaN\n29;60;'2020/12/29';100;132;2800\n30;60;'2020/12/30';102;129;3803\n31;60;'2020/12/31';92;115;2430\n\"\"\"\n\n# Cria o arquivo CSV\nwith open('dados.csv', 'w') as f:\n    f.write(csv_content)\n",
      "metadata": {
        "trusted": true
      },
      "outputs": [],
      "execution_count": 1
    },
    {
      "cell_type": "code",
      "source": "# Importa a biblioteca pandas\nimport pandas as pd\n\n# Lê o conteúdo do arquivo CSV\ndados = pd.read_csv('dados.csv', sep=';', engine='python')\n\n# Exibe o conteúdo lido\nprint(dados)\n",
      "metadata": {
        "trusted": true
      },
      "outputs": [
        {
          "name": "stderr",
          "text": "<ipython-input-2-e22b6d75db8f>:2: DeprecationWarning: \nPyarrow will become a required dependency of pandas in the next major release of pandas (pandas 3.0),\n(to allow more performant data types, such as the Arrow string type, and better interoperability with other libraries)\nbut was not found to be installed on your system.\nIf this would cause problems for you,\nplease provide us feedback at https://github.com/pandas-dev/pandas/issues/54466\n        \n  import pandas as pd\n",
          "output_type": "stream"
        },
        {
          "name": "stdout",
          "text": "    ID  Duration          Date  Pulse  Maxpulse  Calories\n0    0        60  '2020/12/01'    110       130    4091.0\n1    1        60  '2020/12/02'    117       145    4790.0\n2    2        60  '2020/12/03'    103       135    3400.0\n3    3        45  '2020/12/04'    109       175    2824.0\n4    4        45  '2020/12/05'    117       148    4060.0\n5    5        60  '2020/12/06'    102       127    3000.0\n6    6        60  '2020/12/07'    110       136    3740.0\n7    7       450  '2020/12/08'    104       134    2533.0\n8    8        30  '2020/12/09'    109       133    1951.0\n9    9        60  '2020/12/10'     98       124    2690.0\n10  10        60  '2020/12/11'    103       147    3293.0\n11  11        60  '2020/12/12'    100       120    2507.0\n12  12        60  '2020/12/12'    100       120    2507.0\n13  13        60  '2020/12/13'    106       128    3453.0\n14  14        60  '2020/12/14'    104       132    3793.0\n15  15        60  '2020/12/15'     98       123    2750.0\n16  16        60  '2020/12/16'     98       120    2152.0\n17  17        60  '2020/12/17'    100       120    3000.0\n18  18        45  '2020/12/18'     90       112       NaN\n19  19        60  '2020/12/19'    103       123    3230.0\n20  20        45  '2020/12/20'     97       125    2430.0\n21  21        60  '2020/12/21'    108       131    3642.0\n22  22        45           NaN    100       119    2820.0\n23  23        60  '2020/12/23'    130       101    3000.0\n24  24        45  '2020/12/24'    105       132    2460.0\n25  25        60  '2020/12/25'    102       126    3345.0\n26  26        60      20201226    100       120    2500.0\n27  27        60  '2020/12/27'     92       118    2410.0\n28  28        60  '2020/12/28'    103       132       NaN\n29  29        60  '2020/12/29'    100       132    2800.0\n30  30        60  '2020/12/30'    102       129    3803.0\n31  31        60  '2020/12/31'     92       115    2430.0\n",
          "output_type": "stream"
        }
      ],
      "execution_count": 2
    },
    {
      "cell_type": "code",
      "source": "# Cria um subconjunto de dados contendo as colunas 'Date', 'Pulse', e 'Calories'\nsubconjunto = dados[['Date', 'Pulse', 'Calories']]\n\n# Exibe o subconjunto criado\nprint(subconjunto)\n",
      "metadata": {
        "trusted": true
      },
      "outputs": [
        {
          "name": "stdout",
          "text": "            Date  Pulse  Calories\n0   '2020/12/01'    110    4091.0\n1   '2020/12/02'    117    4790.0\n2   '2020/12/03'    103    3400.0\n3   '2020/12/04'    109    2824.0\n4   '2020/12/05'    117    4060.0\n5   '2020/12/06'    102    3000.0\n6   '2020/12/07'    110    3740.0\n7   '2020/12/08'    104    2533.0\n8   '2020/12/09'    109    1951.0\n9   '2020/12/10'     98    2690.0\n10  '2020/12/11'    103    3293.0\n11  '2020/12/12'    100    2507.0\n12  '2020/12/12'    100    2507.0\n13  '2020/12/13'    106    3453.0\n14  '2020/12/14'    104    3793.0\n15  '2020/12/15'     98    2750.0\n16  '2020/12/16'     98    2152.0\n17  '2020/12/17'    100    3000.0\n18  '2020/12/18'     90       NaN\n19  '2020/12/19'    103    3230.0\n20  '2020/12/20'     97    2430.0\n21  '2020/12/21'    108    3642.0\n22           NaN    100    2820.0\n23  '2020/12/23'    130    3000.0\n24  '2020/12/24'    105    2460.0\n25  '2020/12/25'    102    3345.0\n26      20201226    100    2500.0\n27  '2020/12/27'     92    2410.0\n28  '2020/12/28'    103       NaN\n29  '2020/12/29'    100    2800.0\n30  '2020/12/30'    102    3803.0\n31  '2020/12/31'     92    2430.0\n",
          "output_type": "stream"
        }
      ],
      "execution_count": 3
    },
    {
      "cell_type": "code",
      "source": "# Define o número máximo de linhas a serem exibidas\npd.set_option('display.max_rows', 9999)\n\n# Exibe o conjunto de dados original usando o método to_string()\nprint(dados.to_string())\n",
      "metadata": {
        "trusted": true
      },
      "outputs": [
        {
          "name": "stdout",
          "text": "    ID  Duration          Date  Pulse  Maxpulse  Calories\n0    0        60  '2020/12/01'    110       130    4091.0\n1    1        60  '2020/12/02'    117       145    4790.0\n2    2        60  '2020/12/03'    103       135    3400.0\n3    3        45  '2020/12/04'    109       175    2824.0\n4    4        45  '2020/12/05'    117       148    4060.0\n5    5        60  '2020/12/06'    102       127    3000.0\n6    6        60  '2020/12/07'    110       136    3740.0\n7    7       450  '2020/12/08'    104       134    2533.0\n8    8        30  '2020/12/09'    109       133    1951.0\n9    9        60  '2020/12/10'     98       124    2690.0\n10  10        60  '2020/12/11'    103       147    3293.0\n11  11        60  '2020/12/12'    100       120    2507.0\n12  12        60  '2020/12/12'    100       120    2507.0\n13  13        60  '2020/12/13'    106       128    3453.0\n14  14        60  '2020/12/14'    104       132    3793.0\n15  15        60  '2020/12/15'     98       123    2750.0\n16  16        60  '2020/12/16'     98       120    2152.0\n17  17        60  '2020/12/17'    100       120    3000.0\n18  18        45  '2020/12/18'     90       112       NaN\n19  19        60  '2020/12/19'    103       123    3230.0\n20  20        45  '2020/12/20'     97       125    2430.0\n21  21        60  '2020/12/21'    108       131    3642.0\n22  22        45           NaN    100       119    2820.0\n23  23        60  '2020/12/23'    130       101    3000.0\n24  24        45  '2020/12/24'    105       132    2460.0\n25  25        60  '2020/12/25'    102       126    3345.0\n26  26        60      20201226    100       120    2500.0\n27  27        60  '2020/12/27'     92       118    2410.0\n28  28        60  '2020/12/28'    103       132       NaN\n29  29        60  '2020/12/29'    100       132    2800.0\n30  30        60  '2020/12/30'    102       129    3803.0\n31  31        60  '2020/12/31'     92       115    2430.0\n",
          "output_type": "stream"
        }
      ],
      "execution_count": 4
    },
    {
      "cell_type": "code",
      "source": "# Exibe as primeiras 10 linhas do conjunto de dados\nprint(\"Primeiras 10 linhas do conjunto de dados:\")\nprint(dados.head(10))\n\n# Exibe as últimas 10 linhas do conjunto de dados\nprint(\"\\nÚltimas 10 linhas do conjunto de dados:\")\nprint(dados.tail(10))\n",
      "metadata": {
        "trusted": true
      },
      "outputs": [
        {
          "name": "stdout",
          "text": "Primeiras 10 linhas do conjunto de dados:\n   ID  Duration          Date  Pulse  Maxpulse  Calories\n0   0        60  '2020/12/01'    110       130    4091.0\n1   1        60  '2020/12/02'    117       145    4790.0\n2   2        60  '2020/12/03'    103       135    3400.0\n3   3        45  '2020/12/04'    109       175    2824.0\n4   4        45  '2020/12/05'    117       148    4060.0\n5   5        60  '2020/12/06'    102       127    3000.0\n6   6        60  '2020/12/07'    110       136    3740.0\n7   7       450  '2020/12/08'    104       134    2533.0\n8   8        30  '2020/12/09'    109       133    1951.0\n9   9        60  '2020/12/10'     98       124    2690.0\n\nÚltimas 10 linhas do conjunto de dados:\n    ID  Duration          Date  Pulse  Maxpulse  Calories\n22  22        45           NaN    100       119    2820.0\n23  23        60  '2020/12/23'    130       101    3000.0\n24  24        45  '2020/12/24'    105       132    2460.0\n25  25        60  '2020/12/25'    102       126    3345.0\n26  26        60      20201226    100       120    2500.0\n27  27        60  '2020/12/27'     92       118    2410.0\n28  28        60  '2020/12/28'    103       132       NaN\n29  29        60  '2020/12/29'    100       132    2800.0\n30  30        60  '2020/12/30'    102       129    3803.0\n31  31        60  '2020/12/31'     92       115    2430.0\n",
          "output_type": "stream"
        }
      ],
      "execution_count": 5
    },
    {
      "cell_type": "code",
      "source": "# Exibe informações gerais sobre o conjunto de dados\ninfo = dados.info()\n\n# Exibe a quantidade total de dados nulos em cada coluna\nnulos = dados.isnull().sum()\n\n# Exibe as informações na tela\nprint(\"Informações gerais sobre o conjunto de dados:\\n\")\nprint(info)\nprint(\"\\nQuantidade de dados nulos em cada coluna:\\n\")\nprint(nulos)\n",
      "metadata": {
        "trusted": true
      },
      "outputs": [
        {
          "name": "stdout",
          "text": "<class 'pandas.core.frame.DataFrame'>\nRangeIndex: 32 entries, 0 to 31\nData columns (total 6 columns):\n #   Column    Non-Null Count  Dtype  \n---  ------    --------------  -----  \n 0   ID        32 non-null     int64  \n 1   Duration  32 non-null     int64  \n 2   Date      31 non-null     object \n 3   Pulse     32 non-null     int64  \n 4   Maxpulse  32 non-null     int64  \n 5   Calories  30 non-null     float64\ndtypes: float64(1), int64(4), object(1)\nmemory usage: 1.4+ KB\nInformações gerais sobre o conjunto de dados:\n\nNone\n\nQuantidade de dados nulos em cada coluna:\n\nID          0\nDuration    0\nDate        1\nPulse       0\nMaxpulse    0\nCalories    2\ndtype: int64\n",
          "output_type": "stream"
        }
      ],
      "execution_count": 6
    },
    {
      "cell_type": "code",
      "source": "",
      "metadata": {
        "trusted": true
      },
      "outputs": [],
      "execution_count": null
    }
  ]
}
